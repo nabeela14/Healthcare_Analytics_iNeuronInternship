{
  "nbformat": 4,
  "nbformat_minor": 0,
  "metadata": {
    "colab": {
      "name": "Healthcare Analytics .ipynb",
      "provenance": []
    },
    "kernelspec": {
      "display_name": "Python 3",
      "name": "python3"
    },
    "language_info": {
      "name": "python"
    }
  },
  "cells": [
    {
      "cell_type": "markdown",
      "metadata": {
        "id": "qq3HbMZQ_-pW"
      },
      "source": [
        "# **Healthcare Analysis** "
      ]
    },
    {
      "cell_type": "markdown",
      "metadata": {
        "id": "hl2WeIPHmidZ"
      },
      "source": [
        "*Importing Libraries* "
      ]
    },
    {
      "cell_type": "code",
      "metadata": {
        "id": "8dkv9Rbd-7lm"
      },
      "source": [
        "import numpy as np\n",
        "import pandas as pd\n",
        "import seaborn as sns\n",
        "import matplotlib.pyplot as plt\n",
        "sns.set_style('whitegrid')"
      ],
      "execution_count": 1,
      "outputs": []
    },
    {
      "cell_type": "markdown",
      "metadata": {
        "id": "03bjTL-FmrgA"
      },
      "source": [
        "*Extracting Dataset in CSV format from the system using Pandas Library*"
      ]
    },
    {
      "cell_type": "code",
      "metadata": {
        "colab": {
          "base_uri": "https://localhost:8080/",
          "height": 424
        },
        "id": "tkoHGcvuAfRZ",
        "outputId": "3ab429f4-7ec9-4902-9f0c-79f4bbd7f04d"
      },
      "source": [
        "data=pd.read_csv('/content/Heart disease.csv')\n",
        "data"
      ],
      "execution_count": 2,
      "outputs": [
        {
          "output_type": "execute_result",
          "data": {
            "text/html": [
              "<div>\n",
              "<style scoped>\n",
              "    .dataframe tbody tr th:only-of-type {\n",
              "        vertical-align: middle;\n",
              "    }\n",
              "\n",
              "    .dataframe tbody tr th {\n",
              "        vertical-align: top;\n",
              "    }\n",
              "\n",
              "    .dataframe thead th {\n",
              "        text-align: right;\n",
              "    }\n",
              "</style>\n",
              "<table border=\"1\" class=\"dataframe\">\n",
              "  <thead>\n",
              "    <tr style=\"text-align: right;\">\n",
              "      <th></th>\n",
              "      <th>age</th>\n",
              "      <th>sex</th>\n",
              "      <th>cp</th>\n",
              "      <th>trestbps</th>\n",
              "      <th>chol</th>\n",
              "      <th>fbs</th>\n",
              "      <th>restecg</th>\n",
              "      <th>thalach</th>\n",
              "      <th>exang</th>\n",
              "      <th>oldpeak</th>\n",
              "      <th>slope</th>\n",
              "      <th>ca</th>\n",
              "      <th>thal</th>\n",
              "      <th>target</th>\n",
              "    </tr>\n",
              "  </thead>\n",
              "  <tbody>\n",
              "    <tr>\n",
              "      <th>0</th>\n",
              "      <td>63</td>\n",
              "      <td>1</td>\n",
              "      <td>3</td>\n",
              "      <td>145</td>\n",
              "      <td>233</td>\n",
              "      <td>1</td>\n",
              "      <td>0</td>\n",
              "      <td>150</td>\n",
              "      <td>0</td>\n",
              "      <td>2.3</td>\n",
              "      <td>0</td>\n",
              "      <td>0</td>\n",
              "      <td>1</td>\n",
              "      <td>1</td>\n",
              "    </tr>\n",
              "    <tr>\n",
              "      <th>1</th>\n",
              "      <td>37</td>\n",
              "      <td>1</td>\n",
              "      <td>2</td>\n",
              "      <td>130</td>\n",
              "      <td>250</td>\n",
              "      <td>0</td>\n",
              "      <td>1</td>\n",
              "      <td>187</td>\n",
              "      <td>0</td>\n",
              "      <td>3.5</td>\n",
              "      <td>0</td>\n",
              "      <td>0</td>\n",
              "      <td>2</td>\n",
              "      <td>1</td>\n",
              "    </tr>\n",
              "    <tr>\n",
              "      <th>2</th>\n",
              "      <td>41</td>\n",
              "      <td>0</td>\n",
              "      <td>1</td>\n",
              "      <td>130</td>\n",
              "      <td>204</td>\n",
              "      <td>0</td>\n",
              "      <td>0</td>\n",
              "      <td>172</td>\n",
              "      <td>0</td>\n",
              "      <td>1.4</td>\n",
              "      <td>2</td>\n",
              "      <td>0</td>\n",
              "      <td>2</td>\n",
              "      <td>1</td>\n",
              "    </tr>\n",
              "    <tr>\n",
              "      <th>3</th>\n",
              "      <td>56</td>\n",
              "      <td>1</td>\n",
              "      <td>1</td>\n",
              "      <td>120</td>\n",
              "      <td>236</td>\n",
              "      <td>0</td>\n",
              "      <td>1</td>\n",
              "      <td>178</td>\n",
              "      <td>0</td>\n",
              "      <td>0.8</td>\n",
              "      <td>2</td>\n",
              "      <td>0</td>\n",
              "      <td>2</td>\n",
              "      <td>1</td>\n",
              "    </tr>\n",
              "    <tr>\n",
              "      <th>4</th>\n",
              "      <td>57</td>\n",
              "      <td>0</td>\n",
              "      <td>0</td>\n",
              "      <td>120</td>\n",
              "      <td>354</td>\n",
              "      <td>0</td>\n",
              "      <td>1</td>\n",
              "      <td>163</td>\n",
              "      <td>1</td>\n",
              "      <td>0.6</td>\n",
              "      <td>2</td>\n",
              "      <td>0</td>\n",
              "      <td>2</td>\n",
              "      <td>1</td>\n",
              "    </tr>\n",
              "    <tr>\n",
              "      <th>...</th>\n",
              "      <td>...</td>\n",
              "      <td>...</td>\n",
              "      <td>...</td>\n",
              "      <td>...</td>\n",
              "      <td>...</td>\n",
              "      <td>...</td>\n",
              "      <td>...</td>\n",
              "      <td>...</td>\n",
              "      <td>...</td>\n",
              "      <td>...</td>\n",
              "      <td>...</td>\n",
              "      <td>...</td>\n",
              "      <td>...</td>\n",
              "      <td>...</td>\n",
              "    </tr>\n",
              "    <tr>\n",
              "      <th>298</th>\n",
              "      <td>57</td>\n",
              "      <td>0</td>\n",
              "      <td>0</td>\n",
              "      <td>140</td>\n",
              "      <td>241</td>\n",
              "      <td>0</td>\n",
              "      <td>1</td>\n",
              "      <td>123</td>\n",
              "      <td>1</td>\n",
              "      <td>0.2</td>\n",
              "      <td>1</td>\n",
              "      <td>0</td>\n",
              "      <td>3</td>\n",
              "      <td>0</td>\n",
              "    </tr>\n",
              "    <tr>\n",
              "      <th>299</th>\n",
              "      <td>45</td>\n",
              "      <td>1</td>\n",
              "      <td>3</td>\n",
              "      <td>110</td>\n",
              "      <td>264</td>\n",
              "      <td>0</td>\n",
              "      <td>1</td>\n",
              "      <td>132</td>\n",
              "      <td>0</td>\n",
              "      <td>1.2</td>\n",
              "      <td>1</td>\n",
              "      <td>0</td>\n",
              "      <td>3</td>\n",
              "      <td>0</td>\n",
              "    </tr>\n",
              "    <tr>\n",
              "      <th>300</th>\n",
              "      <td>68</td>\n",
              "      <td>1</td>\n",
              "      <td>0</td>\n",
              "      <td>144</td>\n",
              "      <td>193</td>\n",
              "      <td>1</td>\n",
              "      <td>1</td>\n",
              "      <td>141</td>\n",
              "      <td>0</td>\n",
              "      <td>3.4</td>\n",
              "      <td>1</td>\n",
              "      <td>2</td>\n",
              "      <td>3</td>\n",
              "      <td>0</td>\n",
              "    </tr>\n",
              "    <tr>\n",
              "      <th>301</th>\n",
              "      <td>57</td>\n",
              "      <td>1</td>\n",
              "      <td>0</td>\n",
              "      <td>130</td>\n",
              "      <td>131</td>\n",
              "      <td>0</td>\n",
              "      <td>1</td>\n",
              "      <td>115</td>\n",
              "      <td>1</td>\n",
              "      <td>1.2</td>\n",
              "      <td>1</td>\n",
              "      <td>1</td>\n",
              "      <td>3</td>\n",
              "      <td>0</td>\n",
              "    </tr>\n",
              "    <tr>\n",
              "      <th>302</th>\n",
              "      <td>57</td>\n",
              "      <td>0</td>\n",
              "      <td>1</td>\n",
              "      <td>130</td>\n",
              "      <td>236</td>\n",
              "      <td>0</td>\n",
              "      <td>0</td>\n",
              "      <td>174</td>\n",
              "      <td>0</td>\n",
              "      <td>0.0</td>\n",
              "      <td>1</td>\n",
              "      <td>1</td>\n",
              "      <td>2</td>\n",
              "      <td>0</td>\n",
              "    </tr>\n",
              "  </tbody>\n",
              "</table>\n",
              "<p>303 rows × 14 columns</p>\n",
              "</div>"
            ],
            "text/plain": [
              "     age  sex  cp  trestbps  chol  fbs  ...  exang  oldpeak  slope  ca  thal  target\n",
              "0     63    1   3       145   233    1  ...      0      2.3      0   0     1       1\n",
              "1     37    1   2       130   250    0  ...      0      3.5      0   0     2       1\n",
              "2     41    0   1       130   204    0  ...      0      1.4      2   0     2       1\n",
              "3     56    1   1       120   236    0  ...      0      0.8      2   0     2       1\n",
              "4     57    0   0       120   354    0  ...      1      0.6      2   0     2       1\n",
              "..   ...  ...  ..       ...   ...  ...  ...    ...      ...    ...  ..   ...     ...\n",
              "298   57    0   0       140   241    0  ...      1      0.2      1   0     3       0\n",
              "299   45    1   3       110   264    0  ...      0      1.2      1   0     3       0\n",
              "300   68    1   0       144   193    1  ...      0      3.4      1   2     3       0\n",
              "301   57    1   0       130   131    0  ...      1      1.2      1   1     3       0\n",
              "302   57    0   1       130   236    0  ...      0      0.0      1   1     2       0\n",
              "\n",
              "[303 rows x 14 columns]"
            ]
          },
          "metadata": {},
          "execution_count": 2
        }
      ]
    },
    {
      "cell_type": "markdown",
      "metadata": {
        "id": "POe-TLbXm27i"
      },
      "source": [
        "*Rows and Columns in the dataset*"
      ]
    },
    {
      "cell_type": "code",
      "metadata": {
        "colab": {
          "base_uri": "https://localhost:8080/"
        },
        "id": "e0csyVYmBrC8",
        "outputId": "b1adc414-7332-4bc0-b07f-6086de47dd13"
      },
      "source": [
        "data.shape"
      ],
      "execution_count": 3,
      "outputs": [
        {
          "output_type": "execute_result",
          "data": {
            "text/plain": [
              "(303, 14)"
            ]
          },
          "metadata": {},
          "execution_count": 3
        }
      ]
    },
    {
      "cell_type": "code",
      "metadata": {
        "colab": {
          "base_uri": "https://localhost:8080/"
        },
        "id": "vw6EHl3iBw_Q",
        "outputId": "e480f008-5b48-42ec-8d5d-635cd71cbcf8"
      },
      "source": [
        "data.columns"
      ],
      "execution_count": 4,
      "outputs": [
        {
          "output_type": "execute_result",
          "data": {
            "text/plain": [
              "Index(['age', 'sex', 'cp', 'trestbps', 'chol', 'fbs', 'restecg', 'thalach',\n",
              "       'exang', 'oldpeak', 'slope', 'ca', 'thal', 'target'],\n",
              "      dtype='object')"
            ]
          },
          "metadata": {},
          "execution_count": 4
        }
      ]
    },
    {
      "cell_type": "markdown",
      "metadata": {
        "id": "TV08uMvCB1J1"
      },
      "source": [
        "***There are fourteen features in Dataset***\n",
        "*   age (Age in years)\n",
        "*   sex : (1 = male, 0 = female)\n",
        "*   cp (Chest Pain Type): [ 0: asymptomatic, 1: atypical angina, 2:   non-anginal pain, 3: typical angina]\n",
        "*   trestbps (Resting Blood Pressure in mm/hg )\n",
        "*   chol (Serum Cholesterol in mg/dl)\n",
        "*   fps (Fasting Blood Sugar > 120 mg/dl): [0 = no, 1 = yes]\n",
        "*   restecg (Resting ECG): [0: showing probable or definite left ventricular hypertrophy by Estes’ criteria, 1: normal, 2: having ST-T wave abnormality]\n",
        "*   thalach (maximum heart rate achieved)\n",
        "*   exang (Exercise Induced Angina): [1 = yes, 0 = no]\n",
        "*  oldpeak (ST depression induced by exercise relative to rest)\n",
        "*  slope (the slope of the peak exercise ST segment): [0: downsloping; 1: flat; 2: upsloping]\n",
        "*  ca [number of major vessels (0–3)\n",
        "*  thal : [1 = normal, 2 = fixed defect, 3 = reversible defect]\n",
        "*  target: [0 = disease, 1 = no disease]\n",
        "\n",
        "\n"
      ]
    },
    {
      "cell_type": "code",
      "metadata": {
        "colab": {
          "base_uri": "https://localhost:8080/"
        },
        "id": "K35jQDWhCo6R",
        "outputId": "621c3afb-45ae-4adb-a7c7-27be25762024"
      },
      "source": [
        "data.info()"
      ],
      "execution_count": 5,
      "outputs": [
        {
          "output_type": "stream",
          "name": "stdout",
          "text": [
            "<class 'pandas.core.frame.DataFrame'>\n",
            "RangeIndex: 303 entries, 0 to 302\n",
            "Data columns (total 14 columns):\n",
            " #   Column    Non-Null Count  Dtype  \n",
            "---  ------    --------------  -----  \n",
            " 0   age       303 non-null    int64  \n",
            " 1   sex       303 non-null    int64  \n",
            " 2   cp        303 non-null    int64  \n",
            " 3   trestbps  303 non-null    int64  \n",
            " 4   chol      303 non-null    int64  \n",
            " 5   fbs       303 non-null    int64  \n",
            " 6   restecg   303 non-null    int64  \n",
            " 7   thalach   303 non-null    int64  \n",
            " 8   exang     303 non-null    int64  \n",
            " 9   oldpeak   303 non-null    float64\n",
            " 10  slope     303 non-null    int64  \n",
            " 11  ca        303 non-null    int64  \n",
            " 12  thal      303 non-null    int64  \n",
            " 13  target    303 non-null    int64  \n",
            "dtypes: float64(1), int64(13)\n",
            "memory usage: 33.3 KB\n"
          ]
        }
      ]
    },
    {
      "cell_type": "markdown",
      "metadata": {
        "id": "FizHy51DnAI8"
      },
      "source": [
        "*Checking for null values*"
      ]
    },
    {
      "cell_type": "code",
      "metadata": {
        "colab": {
          "base_uri": "https://localhost:8080/"
        },
        "id": "8QJa4Q5GBzfO",
        "outputId": "f0c7ce95-5dfc-44d9-cf32-8a85b85af77c"
      },
      "source": [
        "data.isnull().sum()"
      ],
      "execution_count": 6,
      "outputs": [
        {
          "output_type": "execute_result",
          "data": {
            "text/plain": [
              "age         0\n",
              "sex         0\n",
              "cp          0\n",
              "trestbps    0\n",
              "chol        0\n",
              "fbs         0\n",
              "restecg     0\n",
              "thalach     0\n",
              "exang       0\n",
              "oldpeak     0\n",
              "slope       0\n",
              "ca          0\n",
              "thal        0\n",
              "target      0\n",
              "dtype: int64"
            ]
          },
          "metadata": {},
          "execution_count": 6
        }
      ]
    },
    {
      "cell_type": "markdown",
      "metadata": {
        "id": "ZUVAT25wEcfw"
      },
      "source": [
        "* There are No Missing values in the dataset"
      ]
    },
    {
      "cell_type": "markdown",
      "metadata": {
        "id": "6IMCznzTnJVe"
      },
      "source": [
        "*Checking for duplicate data*"
      ]
    },
    {
      "cell_type": "code",
      "metadata": {
        "colab": {
          "base_uri": "https://localhost:8080/"
        },
        "id": "LIQLtf5-ES3Z",
        "outputId": "7ed6dd6b-3236-479d-fcc9-c43a44ac641f"
      },
      "source": [
        "\n",
        "duplicate=data.duplicated().sum()\n",
        "if duplicate:\n",
        "  print(\"Duplicate rows are:{}\".format(duplicate))\n",
        "else:\n",
        "  print(\"No duplicate values\")"
      ],
      "execution_count": 7,
      "outputs": [
        {
          "output_type": "stream",
          "name": "stdout",
          "text": [
            "Duplicate rows are:1\n"
          ]
        }
      ]
    },
    {
      "cell_type": "code",
      "metadata": {
        "colab": {
          "base_uri": "https://localhost:8080/",
          "height": 112
        },
        "id": "dWNZgHUnFEoB",
        "outputId": "2d06b350-7727-4ee9-ba9f-38a3c98198b5"
      },
      "source": [
        "duplicate_data=data[data.duplicated(keep=False)]\n",
        "duplicate_data.head()"
      ],
      "execution_count": 8,
      "outputs": [
        {
          "output_type": "execute_result",
          "data": {
            "text/html": [
              "<div>\n",
              "<style scoped>\n",
              "    .dataframe tbody tr th:only-of-type {\n",
              "        vertical-align: middle;\n",
              "    }\n",
              "\n",
              "    .dataframe tbody tr th {\n",
              "        vertical-align: top;\n",
              "    }\n",
              "\n",
              "    .dataframe thead th {\n",
              "        text-align: right;\n",
              "    }\n",
              "</style>\n",
              "<table border=\"1\" class=\"dataframe\">\n",
              "  <thead>\n",
              "    <tr style=\"text-align: right;\">\n",
              "      <th></th>\n",
              "      <th>age</th>\n",
              "      <th>sex</th>\n",
              "      <th>cp</th>\n",
              "      <th>trestbps</th>\n",
              "      <th>chol</th>\n",
              "      <th>fbs</th>\n",
              "      <th>restecg</th>\n",
              "      <th>thalach</th>\n",
              "      <th>exang</th>\n",
              "      <th>oldpeak</th>\n",
              "      <th>slope</th>\n",
              "      <th>ca</th>\n",
              "      <th>thal</th>\n",
              "      <th>target</th>\n",
              "    </tr>\n",
              "  </thead>\n",
              "  <tbody>\n",
              "    <tr>\n",
              "      <th>163</th>\n",
              "      <td>38</td>\n",
              "      <td>1</td>\n",
              "      <td>2</td>\n",
              "      <td>138</td>\n",
              "      <td>175</td>\n",
              "      <td>0</td>\n",
              "      <td>1</td>\n",
              "      <td>173</td>\n",
              "      <td>0</td>\n",
              "      <td>0.0</td>\n",
              "      <td>2</td>\n",
              "      <td>4</td>\n",
              "      <td>2</td>\n",
              "      <td>1</td>\n",
              "    </tr>\n",
              "    <tr>\n",
              "      <th>164</th>\n",
              "      <td>38</td>\n",
              "      <td>1</td>\n",
              "      <td>2</td>\n",
              "      <td>138</td>\n",
              "      <td>175</td>\n",
              "      <td>0</td>\n",
              "      <td>1</td>\n",
              "      <td>173</td>\n",
              "      <td>0</td>\n",
              "      <td>0.0</td>\n",
              "      <td>2</td>\n",
              "      <td>4</td>\n",
              "      <td>2</td>\n",
              "      <td>1</td>\n",
              "    </tr>\n",
              "  </tbody>\n",
              "</table>\n",
              "</div>"
            ],
            "text/plain": [
              "     age  sex  cp  trestbps  chol  fbs  ...  exang  oldpeak  slope  ca  thal  target\n",
              "163   38    1   2       138   175    0  ...      0      0.0      2   4     2       1\n",
              "164   38    1   2       138   175    0  ...      0      0.0      2   4     2       1\n",
              "\n",
              "[2 rows x 14 columns]"
            ]
          },
          "metadata": {},
          "execution_count": 8
        }
      ]
    },
    {
      "cell_type": "markdown",
      "metadata": {
        "id": "k9AzEooGGHBA"
      },
      "source": [
        "*Statistics Summary*"
      ]
    },
    {
      "cell_type": "code",
      "metadata": {
        "colab": {
          "base_uri": "https://localhost:8080/",
          "height": 320
        },
        "id": "oUtbrp99GRXz",
        "outputId": "97744294-0de2-4ace-eb46-5de9da602051"
      },
      "source": [
        "data.describe()"
      ],
      "execution_count": 9,
      "outputs": [
        {
          "output_type": "execute_result",
          "data": {
            "text/html": [
              "<div>\n",
              "<style scoped>\n",
              "    .dataframe tbody tr th:only-of-type {\n",
              "        vertical-align: middle;\n",
              "    }\n",
              "\n",
              "    .dataframe tbody tr th {\n",
              "        vertical-align: top;\n",
              "    }\n",
              "\n",
              "    .dataframe thead th {\n",
              "        text-align: right;\n",
              "    }\n",
              "</style>\n",
              "<table border=\"1\" class=\"dataframe\">\n",
              "  <thead>\n",
              "    <tr style=\"text-align: right;\">\n",
              "      <th></th>\n",
              "      <th>age</th>\n",
              "      <th>sex</th>\n",
              "      <th>cp</th>\n",
              "      <th>trestbps</th>\n",
              "      <th>chol</th>\n",
              "      <th>fbs</th>\n",
              "      <th>restecg</th>\n",
              "      <th>thalach</th>\n",
              "      <th>exang</th>\n",
              "      <th>oldpeak</th>\n",
              "      <th>slope</th>\n",
              "      <th>ca</th>\n",
              "      <th>thal</th>\n",
              "      <th>target</th>\n",
              "    </tr>\n",
              "  </thead>\n",
              "  <tbody>\n",
              "    <tr>\n",
              "      <th>count</th>\n",
              "      <td>303.000000</td>\n",
              "      <td>303.000000</td>\n",
              "      <td>303.000000</td>\n",
              "      <td>303.000000</td>\n",
              "      <td>303.000000</td>\n",
              "      <td>303.000000</td>\n",
              "      <td>303.000000</td>\n",
              "      <td>303.000000</td>\n",
              "      <td>303.000000</td>\n",
              "      <td>303.000000</td>\n",
              "      <td>303.000000</td>\n",
              "      <td>303.000000</td>\n",
              "      <td>303.000000</td>\n",
              "      <td>303.000000</td>\n",
              "    </tr>\n",
              "    <tr>\n",
              "      <th>mean</th>\n",
              "      <td>54.366337</td>\n",
              "      <td>0.683168</td>\n",
              "      <td>0.966997</td>\n",
              "      <td>131.623762</td>\n",
              "      <td>246.264026</td>\n",
              "      <td>0.148515</td>\n",
              "      <td>0.528053</td>\n",
              "      <td>149.646865</td>\n",
              "      <td>0.326733</td>\n",
              "      <td>1.039604</td>\n",
              "      <td>1.399340</td>\n",
              "      <td>0.729373</td>\n",
              "      <td>2.313531</td>\n",
              "      <td>0.544554</td>\n",
              "    </tr>\n",
              "    <tr>\n",
              "      <th>std</th>\n",
              "      <td>9.082101</td>\n",
              "      <td>0.466011</td>\n",
              "      <td>1.032052</td>\n",
              "      <td>17.538143</td>\n",
              "      <td>51.830751</td>\n",
              "      <td>0.356198</td>\n",
              "      <td>0.525860</td>\n",
              "      <td>22.905161</td>\n",
              "      <td>0.469794</td>\n",
              "      <td>1.161075</td>\n",
              "      <td>0.616226</td>\n",
              "      <td>1.022606</td>\n",
              "      <td>0.612277</td>\n",
              "      <td>0.498835</td>\n",
              "    </tr>\n",
              "    <tr>\n",
              "      <th>min</th>\n",
              "      <td>29.000000</td>\n",
              "      <td>0.000000</td>\n",
              "      <td>0.000000</td>\n",
              "      <td>94.000000</td>\n",
              "      <td>126.000000</td>\n",
              "      <td>0.000000</td>\n",
              "      <td>0.000000</td>\n",
              "      <td>71.000000</td>\n",
              "      <td>0.000000</td>\n",
              "      <td>0.000000</td>\n",
              "      <td>0.000000</td>\n",
              "      <td>0.000000</td>\n",
              "      <td>0.000000</td>\n",
              "      <td>0.000000</td>\n",
              "    </tr>\n",
              "    <tr>\n",
              "      <th>25%</th>\n",
              "      <td>47.500000</td>\n",
              "      <td>0.000000</td>\n",
              "      <td>0.000000</td>\n",
              "      <td>120.000000</td>\n",
              "      <td>211.000000</td>\n",
              "      <td>0.000000</td>\n",
              "      <td>0.000000</td>\n",
              "      <td>133.500000</td>\n",
              "      <td>0.000000</td>\n",
              "      <td>0.000000</td>\n",
              "      <td>1.000000</td>\n",
              "      <td>0.000000</td>\n",
              "      <td>2.000000</td>\n",
              "      <td>0.000000</td>\n",
              "    </tr>\n",
              "    <tr>\n",
              "      <th>50%</th>\n",
              "      <td>55.000000</td>\n",
              "      <td>1.000000</td>\n",
              "      <td>1.000000</td>\n",
              "      <td>130.000000</td>\n",
              "      <td>240.000000</td>\n",
              "      <td>0.000000</td>\n",
              "      <td>1.000000</td>\n",
              "      <td>153.000000</td>\n",
              "      <td>0.000000</td>\n",
              "      <td>0.800000</td>\n",
              "      <td>1.000000</td>\n",
              "      <td>0.000000</td>\n",
              "      <td>2.000000</td>\n",
              "      <td>1.000000</td>\n",
              "    </tr>\n",
              "    <tr>\n",
              "      <th>75%</th>\n",
              "      <td>61.000000</td>\n",
              "      <td>1.000000</td>\n",
              "      <td>2.000000</td>\n",
              "      <td>140.000000</td>\n",
              "      <td>274.500000</td>\n",
              "      <td>0.000000</td>\n",
              "      <td>1.000000</td>\n",
              "      <td>166.000000</td>\n",
              "      <td>1.000000</td>\n",
              "      <td>1.600000</td>\n",
              "      <td>2.000000</td>\n",
              "      <td>1.000000</td>\n",
              "      <td>3.000000</td>\n",
              "      <td>1.000000</td>\n",
              "    </tr>\n",
              "    <tr>\n",
              "      <th>max</th>\n",
              "      <td>77.000000</td>\n",
              "      <td>1.000000</td>\n",
              "      <td>3.000000</td>\n",
              "      <td>200.000000</td>\n",
              "      <td>564.000000</td>\n",
              "      <td>1.000000</td>\n",
              "      <td>2.000000</td>\n",
              "      <td>202.000000</td>\n",
              "      <td>1.000000</td>\n",
              "      <td>6.200000</td>\n",
              "      <td>2.000000</td>\n",
              "      <td>4.000000</td>\n",
              "      <td>3.000000</td>\n",
              "      <td>1.000000</td>\n",
              "    </tr>\n",
              "  </tbody>\n",
              "</table>\n",
              "</div>"
            ],
            "text/plain": [
              "              age         sex          cp  ...          ca        thal      target\n",
              "count  303.000000  303.000000  303.000000  ...  303.000000  303.000000  303.000000\n",
              "mean    54.366337    0.683168    0.966997  ...    0.729373    2.313531    0.544554\n",
              "std      9.082101    0.466011    1.032052  ...    1.022606    0.612277    0.498835\n",
              "min     29.000000    0.000000    0.000000  ...    0.000000    0.000000    0.000000\n",
              "25%     47.500000    0.000000    0.000000  ...    0.000000    2.000000    0.000000\n",
              "50%     55.000000    1.000000    1.000000  ...    0.000000    2.000000    1.000000\n",
              "75%     61.000000    1.000000    2.000000  ...    1.000000    3.000000    1.000000\n",
              "max     77.000000    1.000000    3.000000  ...    4.000000    3.000000    1.000000\n",
              "\n",
              "[8 rows x 14 columns]"
            ]
          },
          "metadata": {},
          "execution_count": 9
        }
      ]
    },
    {
      "cell_type": "markdown",
      "metadata": {
        "id": "TFCeeW-XGirV"
      },
      "source": [
        "#**Percentage of people having Heart Disease**"
      ]
    },
    {
      "cell_type": "code",
      "metadata": {
        "colab": {
          "base_uri": "https://localhost:8080/"
        },
        "id": "T-oPY2D_FfJ4",
        "outputId": "3755efe2-afe1-466d-f221-2cdbbf06dcc3"
      },
      "source": [
        "target=data.groupby('target').size()\n",
        "target"
      ],
      "execution_count": 10,
      "outputs": [
        {
          "output_type": "execute_result",
          "data": {
            "text/plain": [
              "target\n",
              "0    138\n",
              "1    165\n",
              "dtype: int64"
            ]
          },
          "metadata": {},
          "execution_count": 10
        }
      ]
    },
    {
      "cell_type": "markdown",
      "metadata": {
        "id": "o2p7IWPPGzpZ"
      },
      "source": [
        "*Converting Numerical Data into Categorical Data* "
      ]
    },
    {
      "cell_type": "code",
      "metadata": {
        "colab": {
          "base_uri": "https://localhost:8080/",
          "height": 206
        },
        "id": "q_vW4sraGvVC",
        "outputId": "7cd82279-57b5-4bac-a4b2-2ccacd9fe06a"
      },
      "source": [
        "data['target']=data.target.replace({1:\"Disease\",0:\"No_Disease\"})\n",
        "data['sex']=data.sex.replace({1:\"Male\",0:\"Female\"})\n",
        "data['cp']=data.cp.replace({0:\"Typical_Angina\",1:\"Atypical_Angina\",2:\"Non-Anginal Pain\",3:\"Asymtomatic\"})\n",
        "data['fbs']=data.fbs.replace({1:\"True\",0:\"False\"})\n",
        "data['exang']=data.exang.replace({1:\"Yes\",0:\"No\"})\n",
        "data['thal']=data.thal.replace({1:\"Normal\",2:\"Fixed Dfect\",3:\"Reversible Defect\"})\n",
        "data.head()"
      ],
      "execution_count": 11,
      "outputs": [
        {
          "output_type": "execute_result",
          "data": {
            "text/html": [
              "<div>\n",
              "<style scoped>\n",
              "    .dataframe tbody tr th:only-of-type {\n",
              "        vertical-align: middle;\n",
              "    }\n",
              "\n",
              "    .dataframe tbody tr th {\n",
              "        vertical-align: top;\n",
              "    }\n",
              "\n",
              "    .dataframe thead th {\n",
              "        text-align: right;\n",
              "    }\n",
              "</style>\n",
              "<table border=\"1\" class=\"dataframe\">\n",
              "  <thead>\n",
              "    <tr style=\"text-align: right;\">\n",
              "      <th></th>\n",
              "      <th>age</th>\n",
              "      <th>sex</th>\n",
              "      <th>cp</th>\n",
              "      <th>trestbps</th>\n",
              "      <th>chol</th>\n",
              "      <th>fbs</th>\n",
              "      <th>restecg</th>\n",
              "      <th>thalach</th>\n",
              "      <th>exang</th>\n",
              "      <th>oldpeak</th>\n",
              "      <th>slope</th>\n",
              "      <th>ca</th>\n",
              "      <th>thal</th>\n",
              "      <th>target</th>\n",
              "    </tr>\n",
              "  </thead>\n",
              "  <tbody>\n",
              "    <tr>\n",
              "      <th>0</th>\n",
              "      <td>63</td>\n",
              "      <td>Male</td>\n",
              "      <td>Asymtomatic</td>\n",
              "      <td>145</td>\n",
              "      <td>233</td>\n",
              "      <td>True</td>\n",
              "      <td>0</td>\n",
              "      <td>150</td>\n",
              "      <td>No</td>\n",
              "      <td>2.3</td>\n",
              "      <td>0</td>\n",
              "      <td>0</td>\n",
              "      <td>Normal</td>\n",
              "      <td>Disease</td>\n",
              "    </tr>\n",
              "    <tr>\n",
              "      <th>1</th>\n",
              "      <td>37</td>\n",
              "      <td>Male</td>\n",
              "      <td>Non-Anginal Pain</td>\n",
              "      <td>130</td>\n",
              "      <td>250</td>\n",
              "      <td>False</td>\n",
              "      <td>1</td>\n",
              "      <td>187</td>\n",
              "      <td>No</td>\n",
              "      <td>3.5</td>\n",
              "      <td>0</td>\n",
              "      <td>0</td>\n",
              "      <td>Fixed Dfect</td>\n",
              "      <td>Disease</td>\n",
              "    </tr>\n",
              "    <tr>\n",
              "      <th>2</th>\n",
              "      <td>41</td>\n",
              "      <td>Female</td>\n",
              "      <td>Atypical_Angina</td>\n",
              "      <td>130</td>\n",
              "      <td>204</td>\n",
              "      <td>False</td>\n",
              "      <td>0</td>\n",
              "      <td>172</td>\n",
              "      <td>No</td>\n",
              "      <td>1.4</td>\n",
              "      <td>2</td>\n",
              "      <td>0</td>\n",
              "      <td>Fixed Dfect</td>\n",
              "      <td>Disease</td>\n",
              "    </tr>\n",
              "    <tr>\n",
              "      <th>3</th>\n",
              "      <td>56</td>\n",
              "      <td>Male</td>\n",
              "      <td>Atypical_Angina</td>\n",
              "      <td>120</td>\n",
              "      <td>236</td>\n",
              "      <td>False</td>\n",
              "      <td>1</td>\n",
              "      <td>178</td>\n",
              "      <td>No</td>\n",
              "      <td>0.8</td>\n",
              "      <td>2</td>\n",
              "      <td>0</td>\n",
              "      <td>Fixed Dfect</td>\n",
              "      <td>Disease</td>\n",
              "    </tr>\n",
              "    <tr>\n",
              "      <th>4</th>\n",
              "      <td>57</td>\n",
              "      <td>Female</td>\n",
              "      <td>Typical_Angina</td>\n",
              "      <td>120</td>\n",
              "      <td>354</td>\n",
              "      <td>False</td>\n",
              "      <td>1</td>\n",
              "      <td>163</td>\n",
              "      <td>Yes</td>\n",
              "      <td>0.6</td>\n",
              "      <td>2</td>\n",
              "      <td>0</td>\n",
              "      <td>Fixed Dfect</td>\n",
              "      <td>Disease</td>\n",
              "    </tr>\n",
              "  </tbody>\n",
              "</table>\n",
              "</div>"
            ],
            "text/plain": [
              "   age     sex                cp  trestbps  ...  slope ca         thal   target\n",
              "0   63    Male       Asymtomatic       145  ...      0  0       Normal  Disease\n",
              "1   37    Male  Non-Anginal Pain       130  ...      0  0  Fixed Dfect  Disease\n",
              "2   41  Female   Atypical_Angina       130  ...      2  0  Fixed Dfect  Disease\n",
              "3   56    Male   Atypical_Angina       120  ...      2  0  Fixed Dfect  Disease\n",
              "4   57  Female    Typical_Angina       120  ...      2  0  Fixed Dfect  Disease\n",
              "\n",
              "[5 rows x 14 columns]"
            ]
          },
          "metadata": {},
          "execution_count": 11
        }
      ]
    },
    {
      "cell_type": "code",
      "metadata": {
        "colab": {
          "base_uri": "https://localhost:8080/"
        },
        "id": "Q7w5YfJBHZpw",
        "outputId": "45f9ef0d-f702-46fc-86cf-fe04d61bed4d"
      },
      "source": [
        "heart_disease=data.groupby('target').size()\n",
        "heart_disease"
      ],
      "execution_count": 12,
      "outputs": [
        {
          "output_type": "execute_result",
          "data": {
            "text/plain": [
              "target\n",
              "Disease       165\n",
              "No_Disease    138\n",
              "dtype: int64"
            ]
          },
          "metadata": {},
          "execution_count": 12
        }
      ]
    },
    {
      "cell_type": "code",
      "metadata": {
        "colab": {
          "base_uri": "https://localhost:8080/",
          "height": 375
        },
        "id": "H80bw1hAJDpf",
        "outputId": "82d1fa2a-39b5-446c-c4db-6092c6bfbe15"
      },
      "source": [
        "plt.figure(figsize=(10,6))\n",
        "plt.pie(heart_disease,labels=['Disease','No_Disease'], autopct='%0.0f%%')\n",
        "plt.title('Percentage of people having heart disease', fontsize=15)\n",
        "plt.show()"
      ],
      "execution_count": 13,
      "outputs": [
        {
          "output_type": "display_data",
          "data": {
            "image/png": "[encoded data removed]",
            "text/plain": [
              "<Figure size 720x432 with 1 Axes>"
            ]
          },
          "metadata": {}
        }
      ]
    },
    {
      "cell_type": "markdown",
      "metadata": {
        "id": "xeCaKJWPJsPG"
      },
      "source": [
        "*People suffering from heart disease constitutes of 54% of the total population*"
      ]
    },
    {
      "cell_type": "markdown",
      "metadata": {
        "id": "nQFY0XkSKUeA"
      },
      "source": [
        "# **Age Variable Distribution**"
      ]
    },
    {
      "cell_type": "code",
      "metadata": {
        "colab": {
          "base_uri": "https://localhost:8080/",
          "height": 409
        },
        "id": "uud_4MB8Jpkv",
        "outputId": "c261a956-b9c7-455e-e002-753339364862"
      },
      "source": [
        "#Countplot Creation of Population Age using MatplotLib and Seaborn\n",
        "\n",
        "plt.figure(figsize=(12,6))\n",
        "sns.countplot(x='age',data=data)\n",
        "plt.title('Age Distribution',fontsize=16)\n",
        "plt.xlabel('Age',fontsize=12)\n",
        "plt.ylabel('Count',fontsize=12)\n",
        "plt.show()"
      ],
      "execution_count": 14,
      "outputs": [
        {
          "output_type": "display_data",
          "data": {
            "image/png": "[encoded data removed]",
            "text/plain": [
              "<Figure size 864x432 with 1 Axes>"
            ]
          },
          "metadata": {
            "needs_background": "light"
          }
        }
      ]
    },
    {
      "cell_type": "markdown",
      "metadata": {
        "id": "HBjSNd9pLLDV"
      },
      "source": [
        "* Most of the patients are in the age group 50-60.\n",
        "\n",
        "* For better understanding and meaningful analysis we will divide the age into 3 different categories:\n",
        " 1. Young\n",
        " 2. Middle_Aged\n",
        " 3. Old_Aged "
      ]
    },
    {
      "cell_type": "markdown",
      "metadata": {
        "id": "_sQSRzz0L2Hg"
      },
      "source": [
        "*Statistical Analysis of Age*"
      ]
    },
    {
      "cell_type": "code",
      "metadata": {
        "colab": {
          "base_uri": "https://localhost:8080/"
        },
        "id": "ErpO_zIMK6bG",
        "outputId": "431a0590-932b-4e97-c681-2eed7497245f"
      },
      "source": [
        "Min=data['age'].min()\n",
        "Max=data['age'].max()\n",
        "Mean_age=data['age'].mean()\n",
        "print('Minimum Age:',Min)\n",
        "print('Maximum Age:', Max)\n",
        "print('Mean Age:',Mean_age)"
      ],
      "execution_count": 15,
      "outputs": [
        {
          "output_type": "stream",
          "name": "stdout",
          "text": [
            "Minimum Age: 29\n",
            "Maximum Age: 77\n",
            "Mean Age: 54.366336633663366\n"
          ]
        }
      ]
    },
    {
      "cell_type": "markdown",
      "metadata": {
        "id": "KlqIxQ9hoG1Z"
      },
      "source": [
        "*Categorical Analysis*"
      ]
    },
    {
      "cell_type": "code",
      "metadata": {
        "colab": {
          "base_uri": "https://localhost:8080/"
        },
        "id": "rnEB_lWXMTGv",
        "outputId": "c339ce34-ed56-4e15-db70-a0826c74eb01"
      },
      "source": [
        "Young=data[(data['age']>=29) & (data['age']<40)]\n",
        "print(\"young:\",len(Young))\n",
        "Middle_Aged=data[(data['age']>=40) & (data['age']<55)]\n",
        "print('Middle_Aged:',len(Middle_Aged))\n",
        "Elderly_Aged=data[(data['age']>=55)]\n",
        "print(\"Elderly:\",len(Elderly_Aged))"
      ],
      "execution_count": 16,
      "outputs": [
        {
          "output_type": "stream",
          "name": "stdout",
          "text": [
            "young: 16\n",
            "Middle_Aged: 128\n",
            "Elderly: 159\n"
          ]
        }
      ]
    },
    {
      "cell_type": "code",
      "metadata": {
        "colab": {
          "base_uri": "https://localhost:8080/",
          "height": 303
        },
        "id": "Gq4No66sQkXu",
        "outputId": "34305739-f88c-4ee9-fada-1a53d004afae"
      },
      "source": [
        "#Bar Plot Creation of Age Category using MatplotLib and Seaborn\n",
        "\n",
        "sns.barplot(x=['Young','Middle_Aged','Elderly_Aged'],y=[len(Young),len(Middle_Aged),len(Elderly_Aged)])\n",
        "plt.title('Age Category', fontsize=17)\n",
        "plt.xlabel('Age Range',fontsize=12)\n",
        "plt.ylabel('Count')\n",
        "plt.show()\n"
      ],
      "execution_count": 17,
      "outputs": [
        {
          "output_type": "display_data",
          "data": {
            "image/png": "[encoded data removed]",
            "text/plain": [
              "<Figure size 432x288 with 1 Axes>"
            ]
          },
          "metadata": {
            "needs_background": "light"
          }
        }
      ]
    },
    {
      "cell_type": "markdown",
      "metadata": {
        "id": "pjXZh9fUSbp7"
      },
      "source": [
        "* young: 16\n",
        "* Middle_Aged: 128\n",
        "* Elderly: 159"
      ]
    },
    {
      "cell_type": "markdown",
      "metadata": {
        "id": "WVZu02SPn2B9"
      },
      "source": [
        "*Converting Numerical 'Age' Data into Categorical Data*"
      ]
    },
    {
      "cell_type": "code",
      "metadata": {
        "colab": {
          "base_uri": "https://localhost:8080/",
          "height": 206
        },
        "id": "sQi4UROSafLH",
        "outputId": "40488c7e-a7fb-40dc-a6c1-fde49f81017f"
      },
      "source": [
        "def Age_range(a):\n",
        "  if a>=29 and a<40:\n",
        "    return 'Young'\n",
        "  elif a>=40 and a<55:\n",
        "    return 'Middle_Aged'\n",
        "  elif a>=55:\n",
        "    return 'Elderly_Aged'\n",
        "\n",
        "data['Age_Range']=data['age'].apply(Age_range)\n",
        "data.head()"
      ],
      "execution_count": 18,
      "outputs": [
        {
          "output_type": "execute_result",
          "data": {
            "text/html": [
              "<div>\n",
              "<style scoped>\n",
              "    .dataframe tbody tr th:only-of-type {\n",
              "        vertical-align: middle;\n",
              "    }\n",
              "\n",
              "    .dataframe tbody tr th {\n",
              "        vertical-align: top;\n",
              "    }\n",
              "\n",
              "    .dataframe thead th {\n",
              "        text-align: right;\n",
              "    }\n",
              "</style>\n",
              "<table border=\"1\" class=\"dataframe\">\n",
              "  <thead>\n",
              "    <tr style=\"text-align: right;\">\n",
              "      <th></th>\n",
              "      <th>age</th>\n",
              "      <th>sex</th>\n",
              "      <th>cp</th>\n",
              "      <th>trestbps</th>\n",
              "      <th>chol</th>\n",
              "      <th>fbs</th>\n",
              "      <th>restecg</th>\n",
              "      <th>thalach</th>\n",
              "      <th>exang</th>\n",
              "      <th>oldpeak</th>\n",
              "      <th>slope</th>\n",
              "      <th>ca</th>\n",
              "      <th>thal</th>\n",
              "      <th>target</th>\n",
              "      <th>Age_Range</th>\n",
              "    </tr>\n",
              "  </thead>\n",
              "  <tbody>\n",
              "    <tr>\n",
              "      <th>0</th>\n",
              "      <td>63</td>\n",
              "      <td>Male</td>\n",
              "      <td>Asymtomatic</td>\n",
              "      <td>145</td>\n",
              "      <td>233</td>\n",
              "      <td>True</td>\n",
              "      <td>0</td>\n",
              "      <td>150</td>\n",
              "      <td>No</td>\n",
              "      <td>2.3</td>\n",
              "      <td>0</td>\n",
              "      <td>0</td>\n",
              "      <td>Normal</td>\n",
              "      <td>Disease</td>\n",
              "      <td>Elderly_Aged</td>\n",
              "    </tr>\n",
              "    <tr>\n",
              "      <th>1</th>\n",
              "      <td>37</td>\n",
              "      <td>Male</td>\n",
              "      <td>Non-Anginal Pain</td>\n",
              "      <td>130</td>\n",
              "      <td>250</td>\n",
              "      <td>False</td>\n",
              "      <td>1</td>\n",
              "      <td>187</td>\n",
              "      <td>No</td>\n",
              "      <td>3.5</td>\n",
              "      <td>0</td>\n",
              "      <td>0</td>\n",
              "      <td>Fixed Dfect</td>\n",
              "      <td>Disease</td>\n",
              "      <td>Young</td>\n",
              "    </tr>\n",
              "    <tr>\n",
              "      <th>2</th>\n",
              "      <td>41</td>\n",
              "      <td>Female</td>\n",
              "      <td>Atypical_Angina</td>\n",
              "      <td>130</td>\n",
              "      <td>204</td>\n",
              "      <td>False</td>\n",
              "      <td>0</td>\n",
              "      <td>172</td>\n",
              "      <td>No</td>\n",
              "      <td>1.4</td>\n",
              "      <td>2</td>\n",
              "      <td>0</td>\n",
              "      <td>Fixed Dfect</td>\n",
              "      <td>Disease</td>\n",
              "      <td>Middle_Aged</td>\n",
              "    </tr>\n",
              "    <tr>\n",
              "      <th>3</th>\n",
              "      <td>56</td>\n",
              "      <td>Male</td>\n",
              "      <td>Atypical_Angina</td>\n",
              "      <td>120</td>\n",
              "      <td>236</td>\n",
              "      <td>False</td>\n",
              "      <td>1</td>\n",
              "      <td>178</td>\n",
              "      <td>No</td>\n",
              "      <td>0.8</td>\n",
              "      <td>2</td>\n",
              "      <td>0</td>\n",
              "      <td>Fixed Dfect</td>\n",
              "      <td>Disease</td>\n",
              "      <td>Elderly_Aged</td>\n",
              "    </tr>\n",
              "    <tr>\n",
              "      <th>4</th>\n",
              "      <td>57</td>\n",
              "      <td>Female</td>\n",
              "      <td>Typical_Angina</td>\n",
              "      <td>120</td>\n",
              "      <td>354</td>\n",
              "      <td>False</td>\n",
              "      <td>1</td>\n",
              "      <td>163</td>\n",
              "      <td>Yes</td>\n",
              "      <td>0.6</td>\n",
              "      <td>2</td>\n",
              "      <td>0</td>\n",
              "      <td>Fixed Dfect</td>\n",
              "      <td>Disease</td>\n",
              "      <td>Elderly_Aged</td>\n",
              "    </tr>\n",
              "  </tbody>\n",
              "</table>\n",
              "</div>"
            ],
            "text/plain": [
              "   age     sex                cp  ...         thal   target     Age_Range\n",
              "0   63    Male       Asymtomatic  ...       Normal  Disease  Elderly_Aged\n",
              "1   37    Male  Non-Anginal Pain  ...  Fixed Dfect  Disease         Young\n",
              "2   41  Female   Atypical_Angina  ...  Fixed Dfect  Disease   Middle_Aged\n",
              "3   56    Male   Atypical_Angina  ...  Fixed Dfect  Disease  Elderly_Aged\n",
              "4   57  Female    Typical_Angina  ...  Fixed Dfect  Disease  Elderly_Aged\n",
              "\n",
              "[5 rows x 15 columns]"
            ]
          },
          "metadata": {},
          "execution_count": 18
        }
      ]
    },
    {
      "cell_type": "code",
      "metadata": {
        "colab": {
          "base_uri": "https://localhost:8080/",
          "height": 352
        },
        "id": "DgWQca1ucM_2",
        "outputId": "f4b6bf9a-577b-4ea3-b1e3-9c419da27a2e"
      },
      "source": [
        "#Count Plot Creation of Heart Disease Based On Age Category using MatplotLib and Seaborn\n",
        "\n",
        "plt.figure(figsize=(7,5))\n",
        "hue_order=['Young','Middle_Aged','Elderly_Aged']\n",
        "sns.countplot(x='target',hue='Age_Range',data=data, hue_order=hue_order,palette='YlOrRd')"
      ],
      "execution_count": 19,
      "outputs": [
        {
          "output_type": "execute_result",
          "data": {
            "text/plain": [
              "<matplotlib.axes._subplots.AxesSubplot at 0x7fe42fa9dc90>"
            ]
          },
          "metadata": {},
          "execution_count": 19
        },
        {
          "output_type": "display_data",
          "data": {
            "image/png": "[encoded data removed]",
            "text/plain": [
              "<Figure size 504x360 with 1 Axes>"
            ]
          },
          "metadata": {
            "needs_background": "light"
          }
        }
      ]
    },
    {
      "cell_type": "markdown",
      "metadata": {
        "id": "HxSzKUfBdlth"
      },
      "source": [
        "* Middle Aged people are most affected by Heart Disease "
      ]
    },
    {
      "cell_type": "markdown",
      "metadata": {
        "id": "Xx1lxKnzTNZ0"
      },
      "source": [
        "-----------------------"
      ]
    },
    {
      "cell_type": "markdown",
      "metadata": {
        "id": "JptcxdVeeADp"
      },
      "source": [
        "*Bar Plot Creation of Gender Based Age Category using MatplotLib and Seaborn*"
      ]
    },
    {
      "cell_type": "code",
      "metadata": {
        "colab": {
          "base_uri": "https://localhost:8080/",
          "height": 519
        },
        "id": "a2GLSxjWZdDw",
        "outputId": "14022b54-98ef-4679-c114-4c577502003f"
      },
      "source": [
        "plt.figure(figsize=(10,8))\n",
        "sns.barplot(x='Age_Range',y='age',hue='sex',data=data, palette='GnBu')\n",
        "plt.title('Gender Based Age Category',fontsize=15)\n",
        "plt.xlabel('Age Categort',fontsize=12)\n",
        "plt.ylabel('Age',fontsize=12)\n",
        "plt.show()"
      ],
      "execution_count": 20,
      "outputs": [
        {
          "output_type": "display_data",
          "data": {
            "image/png": "[encoded data removed]",
            "text/plain": [
              "<Figure size 720x576 with 1 Axes>"
            ]
          },
          "metadata": {
            "needs_background": "light"
          }
        }
      ]
    },
    {
      "cell_type": "markdown",
      "metadata": {
        "id": "SO1yDyu1fKU3"
      },
      "source": [
        "* In our dataset Males are more in  Middle Age Category and Females are more in Elderly Age category "
      ]
    },
    {
      "cell_type": "markdown",
      "metadata": {
        "id": "SIgRRv98frAS"
      },
      "source": [
        "#**Gender Distribution According to Target Variable**"
      ]
    },
    {
      "cell_type": "code",
      "metadata": {
        "colab": {
          "base_uri": "https://localhost:8080/",
          "height": 317
        },
        "id": "poQyl8dNfiAy",
        "outputId": "9a92bb6a-99f0-4c3d-c1ec-c643f4872a8d"
      },
      "source": [
        "# CountPlot Creation of Gender Based Age Category using MatplotLib and Seaborn\n",
        "\n",
        "sns.countplot(x='sex',hue='target',data=data,palette='PuRd_r')\n",
        "plt.title('Gender Distribution according to the Target', fontsize=15)\n",
        "plt.xlabel('Gender',fontsize=12)\n",
        "plt.ylabel('Count',fontsize=12)"
      ],
      "execution_count": 21,
      "outputs": [
        {
          "output_type": "execute_result",
          "data": {
            "text/plain": [
              "Text(0, 0.5, 'Count')"
            ]
          },
          "metadata": {},
          "execution_count": 21
        },
        {
          "output_type": "display_data",
          "data": {
            "image/png": "[encoded data removed]",
            "text/plain": [
              "<Figure size 432x288 with 1 Axes>"
            ]
          },
          "metadata": {
            "needs_background": "light"
          }
        }
      ]
    },
    {
      "cell_type": "markdown",
      "metadata": {
        "id": "exQzHBYMfmeA"
      },
      "source": [
        "* We can infer that among Male heart disease patients are higher than Female heart disease patients i.e. **Males are more prone to heart diseases**"
      ]
    },
    {
      "cell_type": "markdown",
      "metadata": {
        "id": "Wnao_CQnf9LL"
      },
      "source": [
        "#**Chest Pain Distribution According to Target Variable** "
      ]
    },
    {
      "cell_type": "code",
      "metadata": {
        "colab": {
          "base_uri": "https://localhost:8080/",
          "height": 409
        },
        "id": "Ca2nC6xMpEqc",
        "outputId": "d6cd5367-5fb9-4213-9c79-d20b85fea7f0"
      },
      "source": [
        "#Count Plot Creation of Chest Pain Experienced using MatplotLib and Seaborn\n",
        "\n",
        "plt.figure(figsize=(8,6))\n",
        "sns.countplot(x='cp',hue='target',data=data,palette='Set1_r')\n",
        "plt.xlabel('Chest Pain ',fontsize=12)\n",
        "plt.ylabel('Count',fontsize=12)"
      ],
      "execution_count": 22,
      "outputs": [
        {
          "output_type": "execute_result",
          "data": {
            "text/plain": [
              "Text(0, 0.5, 'Count')"
            ]
          },
          "metadata": {},
          "execution_count": 22
        },
        {
          "output_type": "display_data",
          "data": {
            "image/png": "[encoded data removed]",
            "text/plain": [
              "<Figure size 576x432 with 1 Axes>"
            ]
          },
          "metadata": {
            "needs_background": "light"
          }
        }
      ]
    },
    {
      "cell_type": "markdown",
      "metadata": {
        "id": "kxcgGFAHsyC0"
      },
      "source": [
        "* higher number of healthy subjects have Typical_Angina\n",
        " can be subjective to stress, physical activities and many more and varies between gender. \n"
      ]
    },
    {
      "cell_type": "code",
      "metadata": {
        "colab": {
          "base_uri": "https://localhost:8080/",
          "height": 409
        },
        "id": "Fb6I2yrEpEdz",
        "outputId": "c4efe05b-56eb-4a99-b56d-3b7f77613586"
      },
      "source": [
        "#Count Plot Creation of Chest Pain Based On Gender using MatplotLib and Seaborn\n",
        "\n",
        "plt.figure(figsize=(8,6))\n",
        "sns.countplot(x='sex', hue='cp',data=data,palette='Spectral')\n",
        "plt.title('Chest Pain based on Gender',fontsize=15)\n",
        "plt.xlabel('Gender',fontsize=12)\n",
        "plt.ylabel('Counts',fontsize=12)\n",
        "plt.show()\n"
      ],
      "execution_count": 23,
      "outputs": [
        {
          "output_type": "display_data",
          "data": {
            "image/png": "[encoded data removed]",
            "text/plain": [
              "<Figure size 576x432 with 1 Axes>"
            ]
          },
          "metadata": {
            "needs_background": "light"
          }
        }
      ]
    },
    {
      "cell_type": "markdown",
      "metadata": {
        "id": "LwbSWOncFc6Y"
      },
      "source": [
        "* We can see that a higher number of men are suffering from Typical Angina of Chest Pain"
      ]
    },
    {
      "cell_type": "code",
      "metadata": {
        "colab": {
          "base_uri": "https://localhost:8080/",
          "height": 410
        },
        "id": "tugf3PgffnQQ",
        "outputId": "4e46e716-86d0-4c13-be1d-978451a76356"
      },
      "source": [
        "#Count Plot Creation of Chest Pain Based On Age Category using MatplotLib and Seaborn\n",
        "\n",
        "plt.figure(figsize=(8,6))\n",
        "sns.countplot(x='Age_Range', hue='cp', data=data, palette='BrBG')\n",
        "plt.title('Chest Pain Based On Age Category', fontsize=15)\n",
        "plt.xlabel('Age Range', fontsize=12)\n",
        "plt.ylabel('Counts', fontsize=12)\n",
        "plt.show()"
      ],
      "execution_count": 24,
      "outputs": [
        {
          "output_type": "display_data",
          "data": {
            "image/png": "[encoded data removed]",
            "text/plain": [
              "<Figure size 576x432 with 1 Axes>"
            ]
          },
          "metadata": {
            "needs_background": "light"
          }
        }
      ]
    },
    {
      "cell_type": "markdown",
      "metadata": {
        "id": "qF3QuI4rOofV"
      },
      "source": [
        "* subjects in Elderly Age category i.e. above 55 suffer from Typical Angina\n"
      ]
    },
    {
      "cell_type": "markdown",
      "metadata": {
        "id": "P6f19FWKP4CN"
      },
      "source": [
        "#**Blood Pressure** "
      ]
    },
    {
      "cell_type": "code",
      "metadata": {
        "colab": {
          "base_uri": "https://localhost:8080/",
          "height": 300
        },
        "id": "QuOOnT1KP7hP",
        "outputId": "041e534f-8831-42c9-8f5e-f948ae1de719"
      },
      "source": [
        "#Bar Plot Creation of Person's Resting Blood Pressure (mm Hg) using MatplotLib and Seaborn\n",
        "\n",
        "sns.barplot(x='sex', y='trestbps', data=data, palette='bwr')\n",
        "plt.title(\"Blood Pressure\", fontsize=15)\n",
        "plt.xlabel('Gender',fontsize=12)\n",
        "plt.ylabel(\"Resting Blood Pressure (mm Hg)\", fontsize=10)\n",
        "plt.show()"
      ],
      "execution_count": 25,
      "outputs": [
        {
          "output_type": "display_data",
          "data": {
            "image/png": "[encoded data removed]",
            "text/plain": [
              "<Figure size 432x288 with 1 Axes>"
            ]
          },
          "metadata": {
            "needs_background": "light"
          }
        }
      ]
    },
    {
      "cell_type": "markdown",
      "metadata": {
        "id": "lp7j87qkR4e_"
      },
      "source": [
        "* Blood Pressure Levels are  almost equal in both Males and Females\n"
      ]
    },
    {
      "cell_type": "code",
      "metadata": {
        "colab": {
          "base_uri": "https://localhost:8080/",
          "height": 301
        },
        "id": "ud-Gfl0dQ-yN",
        "outputId": "8b6a3c15-be88-4bb4-e06e-dc314db4a336"
      },
      "source": [
        "#Bar Plot Creation of Blood Pressure VS Heart Disease using MatplotLib and Seaborn\n",
        "\n",
        "\n",
        "sns.barplot(x='target', y='trestbps', data=data, palette='tab20b_r')\n",
        "plt.title('Blood Pressure VS Heart Disease', fontsize=15)\n",
        "plt.xlabel('Heart Disease', fontsize=12)\n",
        "plt.ylabel('Blood Pressure', fontsize=12)\n",
        "plt.show()"
      ],
      "execution_count": 26,
      "outputs": [
        {
          "output_type": "display_data",
          "data": {
            "image/png": "[encoded data removed]",
            "text/plain": [
              "<Figure size 432x288 with 1 Axes>"
            ]
          },
          "metadata": {
            "needs_background": "light"
          }
        }
      ]
    },
    {
      "cell_type": "markdown",
      "metadata": {
        "id": "PUKorgPdSTXG"
      },
      "source": [
        "* Higher Blood Pressure Level results  Chances Of Heart Disease\n"
      ]
    },
    {
      "cell_type": "code",
      "metadata": {
        "colab": {
          "base_uri": "https://localhost:8080/",
          "height": 300
        },
        "id": "reD0khioSMn2",
        "outputId": "b753c76f-b135-4b28-e327-b42d32cb88ac"
      },
      "source": [
        "#Line Plot Creation of Blood Pressure VS Age using MatplotLib and Seaborn\n",
        "\n",
        "sns.lineplot(x='age', y='trestbps', data=data, color='b')\n",
        "plt.title('Blood Pressure VS Age', fontsize=15)\n",
        "plt.xlabel('Age', fontsize=12)\n",
        "plt.ylabel('Blood Pressure', fontsize=12)\n",
        "plt.show()"
      ],
      "execution_count": 27,
      "outputs": [
        {
          "output_type": "display_data",
          "data": {
            "image/png": "[encoded data removed]",
            "text/plain": [
              "<Figure size 432x288 with 1 Axes>"
            ]
          },
          "metadata": {
            "needs_background": "light"
          }
        }
      ]
    },
    {
      "cell_type": "markdown",
      "metadata": {
        "id": "xbAfzSBnSuiL"
      },
      "source": [
        "* We can infer that Blood Pressure Levels increase between age group 50-60 and continues till 70\n"
      ]
    },
    {
      "cell_type": "markdown",
      "metadata": {
        "id": "5QTLZdfYTGHD"
      },
      "source": [
        "#**Cholestrol** \n"
      ]
    },
    {
      "cell_type": "code",
      "metadata": {
        "colab": {
          "base_uri": "https://localhost:8080/",
          "height": 300
        },
        "id": "PJrjMd58Sgxb",
        "outputId": "a8c72327-bdaa-439d-948d-c1231c941a63"
      },
      "source": [
        "#Bar Plot Creation of Cholestrol Level Based On Gender using MatplotLib and Seaborn\n",
        "\n",
        "sns.barplot(x='sex', y='chol', data=data,palette='Accent')\n",
        "plt.title(\"Cholestrol Level Based On Gender\", fontsize=15)\n",
        "plt.xlabel('Gender',fontsize=12)\n",
        "plt.ylabel(\"Cholestrol\", fontsize=12)\n",
        "plt.show()"
      ],
      "execution_count": 28,
      "outputs": [
        {
          "output_type": "display_data",
          "data": {
            "image/png": "[encoded data removed]",
            "text/plain": [
              "<Figure size 432x288 with 1 Axes>"
            ]
          },
          "metadata": {
            "needs_background": "light"
          }
        }
      ]
    },
    {
      "cell_type": "markdown",
      "metadata": {
        "id": "65cPH1PpUkBk"
      },
      "source": [
        "* Females have little bit of higher cholesterol than Males\n"
      ]
    },
    {
      "cell_type": "code",
      "metadata": {
        "colab": {
          "base_uri": "https://localhost:8080/",
          "height": 301
        },
        "id": "pNp0JXVbTwwz",
        "outputId": "7cb156d0-9a0f-4143-a3f7-84f9f3f74383"
      },
      "source": [
        "#Bar Plot Creation of Cholestrol VS Heart Disease using MatplotLib and Seaborn\n",
        "\n",
        "sns.barplot(x='target', y='chol', data=data, palette='ocean_r')\n",
        "plt.title('Cholestrol VS Heart Disease', fontsize=15)\n",
        "plt.xlabel('Heart Disease', fontsize=12)\n",
        "plt.ylabel('Cholestrol', fontsize=12)\n",
        "plt.show()"
      ],
      "execution_count": 29,
      "outputs": [
        {
          "output_type": "display_data",
          "data": {
            "image/png": "[encoded data removed]",
            "text/plain": [
              "<Figure size 432x288 with 1 Axes>"
            ]
          },
          "metadata": {
            "needs_background": "light"
          }
        }
      ]
    },
    {
      "cell_type": "markdown",
      "metadata": {
        "id": "9rxXodCFVBob"
      },
      "source": [
        "* Higher Cholestrol Levels results chances of Heart Disease"
      ]
    },
    {
      "cell_type": "code",
      "metadata": {
        "colab": {
          "base_uri": "https://localhost:8080/",
          "height": 300
        },
        "id": "NeA0mybSU0QH",
        "outputId": "3fe8615e-e0b2-4080-85d9-f1a9ea30b561"
      },
      "source": [
        "#Line Plot Creation of Cholestrol VS Age using MatplotLib and Seaborn\n",
        "\n",
        "sns.lineplot(x='age', y='chol', data=data, color='r')\n",
        "plt.title('Cholestrol VS Age', fontsize=15)\n",
        "plt.xlabel('Age', fontsize=12)\n",
        "plt.ylabel('Cholestrol', fontsize=12)\n",
        "plt.show()"
      ],
      "execution_count": 30,
      "outputs": [
        {
          "output_type": "display_data",
          "data": {
            "image/png": "[encoded data removed]",
            "text/plain": [
              "<Figure size 432x288 with 1 Axes>"
            ]
          },
          "metadata": {
            "needs_background": "light"
          }
        }
      ]
    },
    {
      "cell_type": "markdown",
      "metadata": {
        "id": "iqkazCOyVtW_"
      },
      "source": [
        "*  We can infer that Cholestrol Level increases in the age group 50-60 and continues to increase till 70"
      ]
    },
    {
      "cell_type": "markdown",
      "metadata": {
        "id": "leJr25TYaPEQ"
      },
      "source": [
        "# **Fasting blood sugar distribution according to target variable**\n"
      ]
    },
    {
      "cell_type": "code",
      "metadata": {
        "colab": {
          "base_uri": "https://localhost:8080/",
          "height": 426
        },
        "id": "ZMqfEWF4aVXa",
        "outputId": "842e1c1b-ddd5-4147-910f-8069cac17dd1"
      },
      "source": [
        "plt.figure(figsize=(6,6))\n",
        "sns.countplot(x='fbs',hue='target',data=data,palette='flare')\n",
        "plt.title('Gender Distribution according to the Target', fontsize=15)\n",
        "plt.xlabel('fbs',fontsize=12)\n",
        "plt.ylabel('Count',fontsize=12)"
      ],
      "execution_count": 31,
      "outputs": [
        {
          "output_type": "execute_result",
          "data": {
            "text/plain": [
              "Text(0, 0.5, 'Count')"
            ]
          },
          "metadata": {},
          "execution_count": 31
        },
        {
          "output_type": "display_data",
          "data": {
            "image/png": "[encoded data removed]",
            "text/plain": [
              "<Figure size 432x432 with 1 Axes>"
            ]
          },
          "metadata": {
            "needs_background": "light"
          }
        }
      ]
    },
    {
      "cell_type": "markdown",
      "metadata": {
        "id": "NR16ZoBya6vY"
      },
      "source": [
        "* Fasting blood sugar or fbs is a diabetes indicator with fbs >120 mg/d is considered diabetic (True class)\n",
        "\n",
        "* we observe that the number for class true, is lower compared to class false\n",
        "\n",
        "* However,there are higher number of heart disease patient without diabetes. \n",
        "\n",
        "* hence fbs might **not be a strong feature differentiating between heart disease an non-disease patient**."
      ]
    },
    {
      "cell_type": "code",
      "metadata": {
        "id": "Sj37Gp0OaCIj"
      },
      "source": [
        "data.to_csv('Healthcare.csv')"
      ],
      "execution_count": 32,
      "outputs": []
    },
    {
      "cell_type": "code",
      "metadata": {
        "colab": {
          "base_uri": "https://localhost:8080/",
          "height": 395
        },
        "id": "vIuQUnu5cSka",
        "outputId": "cd95902f-0701-4671-f5d6-71d64cf58247"
      },
      "source": [
        "plt.figure(figsize=(14,6))\n",
        "df=pd.read_csv('/content/Healthcare.csv')\n",
        "sns.heatmap(df.corr(), annot=True, linewidth=3)"
      ],
      "execution_count": 35,
      "outputs": [
        {
          "output_type": "execute_result",
          "data": {
            "text/plain": [
              "<matplotlib.axes._subplots.AxesSubplot at 0x7fe42f53d4d0>"
            ]
          },
          "metadata": {},
          "execution_count": 35
        },
        {
          "output_type": "display_data",
          "data": {
            "image/png": "[encoded data removed]",
            "text/plain": [
              "<Figure size 1008x432 with 2 Axes>"
            ]
          },
          "metadata": {
            "needs_background": "light"
          }
        }
      ]
    },
    {
      "cell_type": "code",
      "metadata": {
        "id": "V6fODpCsxcd7"
      },
      "source": [
        ""
      ],
      "execution_count": null,
      "outputs": []
    }
  ]
}